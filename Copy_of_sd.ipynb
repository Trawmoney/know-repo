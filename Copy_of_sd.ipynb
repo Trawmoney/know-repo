{
  "cells": [
    {
      "cell_type": "markdown",
      "metadata": {
        "id": "view-in-github",
        "colab_type": "text"
      },
      "source": [
        "<a href=\"https://colab.research.google.com/github/Trawmoney/know-repo/blob/main/Copy_of_sd.ipynb\" target=\"_parent\"><img src=\"https://colab.research.google.com/assets/colab-badge.svg\" alt=\"Open In Colab\"/></a>"
      ]
    },
    {
      "cell_type": "code",
      "execution_count": null,
      "metadata": {
        "id": "2YU73dRwTffj"
      },
      "outputs": [],
      "source": [
        "!curl -Lo memfix.zip https://github.com/nolanaatama/sd-webui/raw/main/memfix.zip\n",
        "!unzip /content/memfix.zip\n",
        "!apt install -qq libunwind8-dev\n",
        "!apt install -qq libcairo2-dev pkg-config python3-dev\n",
        "!dpkg -i *.deb\n",
        "%env LD_PRELOAD=libtcmalloc.so\n",
        "!rm *\n",
        "!pip install --upgrade fastapi==0.90.1\n",
        "!pip install torch==1.13.1+cu116 torchvision==0.14.1+cu116 torchaudio==0.13.1 torchtext==0.14.1 torchdata==0.5.1 --extra-index-url https://download.pytorch.org/whl/cu116 -U\n",
        "!curl -Lo sd-webui.zip https://huggingface.co/nolanaatama/webui/resolve/main/sd-webui.zip\n",
        "!unzip /content/sd-webui.zip\n",
        "!git clone https://github.com/nolanaatama/sd-webui-tunnels /content/sd-webui/extensions/sd-webui-tunnels\n",
        "!git clone https://github.com/Mikubill/sd-webui-controlnet /content/sd-webui/extensions/sd-webui-controlnet\n",
        "!git clone https://github.com/fkunn1326/openpose-editor /content/sd-webui/extensions/openpose-editor\n",
        "!git clone https://github.com/hnmr293/posex /content/sd-webui/extensions/posex\n",
        "!git clone https://github.com/DominikDoom/a1111-sd-webui-tagcomplete /content/sd-webui/extensions/a1111-sd-webui-tagcomplete\n",
        "!git clone https://github.com/hako-mikan/sd-webui-supermerger /content/sd-webui/extensions/sd-webui-supermerger\n",
        "!git clone https://github.com/Coyote-A/ultimate-upscale-for-automatic1111 /content/sd-webui/extensions/ultimate-upscale-for-automatic1111\n",
        "!curl -Lo /content/sd-webui/extensions/sd-webui-images-browser.zip https://huggingface.co/nolanaatama/webui/resolve/main/sd-webui-images-browser.zip\n",
        "%cd /content/sd-webui/extensions\n",
        "!unzip /content/sd-webui/extensions/sd-webui-images-browser.zip\n",
        "%cd /content\n",
        "# Model Code\n",
        "!curl -Lo /content/sd-webui/models/Stable-diffusion/sd2.1.ckpt https://huggingface.co/stabilityai/stable-diffusion-2-1/resolve/main/v2-1_768-ema-pruned.ckpt\n",
        "!curl -Lo /content/sd-webui/models/Stable-diffusion/sd2.1.yaml https://raw.githubusercontent.com/Stability-AI/stablediffusion/main/configs/stable-diffusion/v2-inference-v.yaml\n",
        "import shutil\n",
        "shutil.rmtree('/content/sd-webui/embeddings')\n",
        "shutil.rmtree('/content/sd-webui/extensions/sd-webui-controlnet/models')\n",
        "!rm sd-webui.zip\n",
        "!rm sd-webui-images-browser.zip\n",
        "%cd /content/sd-webui\n",
        "!git clone https://huggingface.co/nolanaatama/embeddings\n",
        "%cd /content/sd-webui/models\n",
        "!git clone https://huggingface.co/nolanaatama/ESRGAN\n",
        "%cd /content/sd-webui/extensions/a1111-sd-webui-tagcomplete\n",
        "!git checkout f9f7732\n",
        "%cd /content/sd-webui/extensions/sd-webui-controlnet\n",
        "!git clone https://huggingface.co/nolanaatama/models\n",
        "%cd /content/sd-webui\n",
        "!sed -i -e '''/prepare_environment()/a\\    os.system\\(f\\\"\"\"sed -i -e ''\\\"s/self.logvar\\\\[t\\\\]/self.logvar\\\\[t.item()\\\\]/g\\\"'' /content/sd-webui/repositories/stable-diffusion-stability-ai/ldm/models/diffusion/ddpm.py\"\"\")''' /content/sd-webui/launch.py\n",
        "!sed -i -e '''/prepare_environment()/a\\    os.system\\(f\\\"\"\"sed -i -e ''\\\"s/dict()))/dict())).cuda()/g\\\"'' /content/sd-webui/repositories/stable-diffusion-stability-ai/ldm/util.py\"\"\")''' /content/sd-webui/launch.py\n",
        "# Web UI tunnel\n",
        "!COMMANDLINE_ARGS=\"--share --disable-safe-unpickle --no-half-vae --xformers --reinstall-xformers --enable-insecure-extension --gradio-queue\" REQS_FILE=\"requirements.txt\" python launch.py\n",
        "# Use this command below to use cloudflare tunnel\n",
        "#!COMMANDLINE_ARGS=\"--disable-safe-unpickle --no-half-vae --xformers --reinstall-xformers --enable-insecure-extension --gradio-queue --cloudflared\" REQS_FILE=\"requirements.txt\" python launch.py"
      ]
    },
    {
      "cell_type": "markdown",
      "metadata": {
        "id": "0DwYF_aLUXKy"
      },
      "source": [
        "## (OPTIONAL) LoRAs"
      ]
    },
    {
      "cell_type": "markdown",
      "metadata": {
        "id": "JUtPlg328avv"
      },
      "source": [
        "### 1. After the gradio link show up, stop the first cell & clear the code output👆"
      ]
    },
    {
      "cell_type": "code",
      "execution_count": null,
      "metadata": {
        "id": "wh4co0oBVNot"
      },
      "outputs": [],
      "source": []
    },
    {
      "cell_type": "markdown",
      "metadata": {
        "id": "xy_WyDzNUgd2"
      },
      "source": [
        "### 2. Load the LoRA & launch the web ui"
      ]
    },
    {
      "cell_type": "code",
      "execution_count": null,
      "metadata": {
        "colab": {
          "base_uri": "https://localhost:8080/"
        },
        "id": "3EOPSiOgUs4z",
        "outputId": "1d3c595a-da42-4890-e748-ab3f3aabe12f"
      },
      "outputs": [
        {
          "output_type": "stream",
          "name": "stdout",
          "text": [
            "ERROR: ld.so: object 'libtcmalloc.so' from LD_PRELOAD cannot be preloaded (cannot open shared object file): ignored.\n",
            "ERROR: ld.so: object 'libtcmalloc.so' from LD_PRELOAD cannot be preloaded (cannot open shared object file): ignored.\n",
            "ERROR: ld.so: object 'libtcmalloc.so' from LD_PRELOAD cannot be preloaded (cannot open shared object file): ignored.\n",
            "ERROR: ld.so: object 'libtcmalloc.so' from LD_PRELOAD cannot be preloaded (cannot open shared object file): ignored.\n",
            "ERROR: ld.so: object 'libtcmalloc.so' from LD_PRELOAD cannot be preloaded (cannot open shared object file): ignored.\n",
            "ERROR: ld.so: object 'libtcmalloc.so' from LD_PRELOAD cannot be preloaded (cannot open shared object file): ignored.\n",
            "ERROR: ld.so: object 'libtcmalloc.so' from LD_PRELOAD cannot be preloaded (cannot open shared object file): ignored.\n",
            "ERROR: ld.so: object 'libtcmalloc.so' from LD_PRELOAD cannot be preloaded (cannot open shared object file): ignored.\n",
            "Python 3.10.11 (main, Apr  5 2023, 14:15:10) [GCC 9.4.0]\n",
            "Commit hash: 0cc0ee1bcb4c24a8c9715f66cede06601bfc00c8\n",
            "Installing xformers\n",
            "Installing requirements for Web UI\n",
            "\n",
            "\n",
            "\n",
            "ERROR: ld.so: object 'libtcmalloc.so' from LD_PRELOAD cannot be preloaded (cannot open shared object file): ignored.\n",
            "ERROR: ld.so: object 'libtcmalloc.so' from LD_PRELOAD cannot be preloaded (cannot open shared object file): ignored.\n",
            "ERROR: ld.so: object 'libtcmalloc.so' from LD_PRELOAD cannot be preloaded (cannot open shared object file): ignored.\n",
            "ERROR: ld.so: object 'libtcmalloc.so' from LD_PRELOAD cannot be preloaded (cannot open shared object file): ignored.\n",
            "Launching Web UI with arguments: --share --disable-safe-unpickle --no-half-vae --xformers --enable-insecure-extension --gradio-queue\n",
            "2023-06-04 22:17:01.850961: I tensorflow/core/platform/cpu_feature_guard.cc:182] This TensorFlow binary is optimized to use available CPU instructions in performance-critical operations.\n",
            "To enable the following instructions: AVX2 FMA, in other operations, rebuild TensorFlow with the appropriate compiler flags.\n",
            "2023-06-04 22:17:03.886696: W tensorflow/compiler/tf2tensorrt/utils/py_utils.cc:38] TF-TRT Warning: Could not find TensorRT\n",
            "ERROR: ld.so: object 'libtcmalloc.so' from LD_PRELOAD cannot be preloaded (cannot open shared object file): ignored.\n",
            "ERROR: ld.so: object 'libtcmalloc.so' from LD_PRELOAD cannot be preloaded (cannot open shared object file): ignored.\n",
            "2023-06-04 22:17:11,002 - ControlNet - INFO - ControlNet v1.1.217\n",
            "ControlNet preprocessor location: /content/sd-webui/extensions/sd-webui-controlnet/annotator/downloads\n",
            "2023-06-04 22:17:11,229 - ControlNet - INFO - ControlNet v1.1.217\n",
            "Loading weights [ad2a33c361] from /content/sd-webui/models/Stable-diffusion/sd2.1.ckpt\n",
            "Creating model from config: /content/sd-webui/models/Stable-diffusion/sd2.1.yaml\n",
            "LatentDiffusion: Running in v-prediction mode\n",
            "DiffusionWrapper has 865.91 M params.\n",
            "Applying xformers cross attention optimization.\n",
            "Textual inversion embeddings loaded(4): nfixer, 21charturnerv2, nrealfixer, nartfixer\n",
            "Textual inversion embeddings skipped(22): bad-artist-anime, bad_pictures, bad-hands-5, EasyNegativeV2, rmadanegative402_sd15-neg, pureerosface_v1, bad-artist, ng_deepnegative_v1_75t, HyperStylizeV6, verybadimagenegative_v1.3, bad-picture-chill-75v, easynegative, badhandv4, bad-image-v2-39000, CyberRealistic_Negative-neg, Asian-Less-Neg, bad_prompt_version2, charturnerv2, ulzzang-6500-v1.1, ulzzang-6500, bad_prompt, negative_hand-neg\n",
            "Model loaded in 67.9s (load weights from disk: 55.4s, create model: 11.0s, apply weights to model: 1.3s).\n",
            "Running on local URL:  http://127.0.0.1:7860\n",
            "Running on public URL: https://fea0e555-26f1-461a.gradio.live\n",
            "\n",
            "This share link expires in 72 hours. For free permanent hosting and GPU upgrades (NEW!), check out Spaces: https://huggingface.co/spaces\n",
            "  0% 0/20 [00:00<?, ?it/s]\n",
            "  5% 1/20 [00:06<01:57,  6.18s/it]\n",
            " 15% 3/20 [00:06<00:36,  2.16s/it]\n",
            "Total progress:  15% 3/20 [00:04<00:26,  1.57s/it]\n",
            "  0% 0/20 [00:00<?, ?it/s]\n",
            "  5% 1/20 [00:00<00:03,  5.25it/s]\n",
            " 15% 3/20 [00:00<00:02,  6.46it/s]\n",
            " 20% 4/20 [00:00<00:02,  6.62it/s]\n",
            " 25% 5/20 [00:00<00:02,  6.72it/s]\n",
            " 30% 6/20 [00:00<00:02,  6.79it/s]\n",
            " 35% 7/20 [00:01<00:01,  6.79it/s]\n",
            " 40% 8/20 [00:01<00:01,  6.76it/s]\n",
            " 45% 9/20 [00:01<00:01,  6.77it/s]\n",
            " 50% 10/20 [00:01<00:01,  6.81it/s]\n",
            " 55% 11/20 [00:01<00:01,  6.83it/s]\n",
            " 60% 12/20 [00:01<00:01,  6.84it/s]\n",
            " 65% 13/20 [00:01<00:01,  6.82it/s]\n",
            " 70% 14/20 [00:02<00:00,  6.81it/s]\n",
            " 75% 15/20 [00:02<00:00,  6.69it/s]\n",
            " 80% 16/20 [00:02<00:00,  6.69it/s]\n",
            " 85% 17/20 [00:02<00:00,  6.48it/s]\n",
            " 90% 18/20 [00:02<00:00,  6.23it/s]\n",
            " 95% 19/20 [00:02<00:00,  6.14it/s]\n",
            "100% 20/20 [00:03<00:00,  6.53it/s]\n",
            "Total progress: 100% 20/20 [00:03<00:00,  5.71it/s]\n",
            "  0% 0/20 [00:00<?, ?it/s]\n",
            "  5% 1/20 [00:00<00:03,  5.20it/s]\n",
            " 15% 3/20 [00:00<00:02,  6.15it/s]\n",
            " 20% 4/20 [00:00<00:02,  6.42it/s]\n",
            " 25% 5/20 [00:00<00:02,  6.57it/s]\n",
            " 30% 6/20 [00:00<00:02,  6.66it/s]\n",
            " 35% 7/20 [00:01<00:01,  6.71it/s]\n",
            " 40% 8/20 [00:01<00:01,  6.70it/s]\n",
            " 45% 9/20 [00:01<00:01,  6.71it/s]\n",
            " 50% 10/20 [00:01<00:01,  6.71it/s]\n",
            " 55% 11/20 [00:01<00:01,  6.76it/s]\n",
            " 60% 12/20 [00:01<00:01,  6.79it/s]\n",
            " 65% 13/20 [00:01<00:01,  6.80it/s]\n",
            " 70% 14/20 [00:02<00:00,  6.78it/s]\n",
            " 75% 15/20 [00:02<00:00,  6.76it/s]\n",
            " 80% 16/20 [00:02<00:00,  6.77it/s]\n",
            " 85% 17/20 [00:02<00:00,  6.73it/s]\n",
            " 90% 18/20 [00:02<00:00,  6.73it/s]\n",
            " 95% 19/20 [00:02<00:00,  6.75it/s]\n",
            "100% 20/20 [00:03<00:00,  6.64it/s]\n",
            "Total progress: 100% 20/20 [00:03<00:00,  5.85it/s]\n",
            "  0% 0/20 [00:00<?, ?it/s]\n",
            "  5% 1/20 [00:00<00:03,  4.96it/s]\n",
            " 15% 3/20 [00:00<00:02,  6.30it/s]\n",
            " 20% 4/20 [00:00<00:02,  6.49it/s]\n",
            " 25% 5/20 [00:00<00:02,  6.61it/s]\n",
            " 30% 6/20 [00:00<00:02,  6.67it/s]\n",
            " 35% 7/20 [00:01<00:01,  6.69it/s]\n",
            " 40% 8/20 [00:01<00:01,  6.68it/s]\n",
            " 45% 9/20 [00:01<00:01,  6.69it/s]\n",
            " 50% 10/20 [00:01<00:01,  6.73it/s]\n",
            " 55% 11/20 [00:01<00:01,  6.76it/s]\n",
            " 60% 12/20 [00:01<00:01,  6.76it/s]\n",
            " 65% 13/20 [00:01<00:01,  6.76it/s]\n",
            " 70% 14/20 [00:02<00:00,  6.72it/s]\n",
            " 75% 15/20 [00:02<00:00,  6.70it/s]\n",
            " 80% 16/20 [00:02<00:00,  6.71it/s]\n",
            " 85% 17/20 [00:02<00:00,  6.75it/s]\n",
            " 90% 18/20 [00:02<00:00,  6.73it/s]\n",
            " 95% 19/20 [00:02<00:00,  6.72it/s]\n",
            "100% 20/20 [00:03<00:00,  6.64it/s]\n",
            "Total progress: 100% 20/20 [00:03<00:00,  5.80it/s]\n",
            "  0% 0/20 [00:00<?, ?it/s]\n",
            "  5% 1/20 [00:00<00:03,  4.92it/s]\n",
            " 15% 3/20 [00:00<00:02,  6.24it/s]\n",
            " 20% 4/20 [00:00<00:02,  6.45it/s]\n",
            " 25% 5/20 [00:00<00:02,  6.57it/s]\n",
            " 30% 6/20 [00:00<00:02,  6.66it/s]\n",
            " 35% 7/20 [00:01<00:01,  6.66it/s]\n",
            " 40% 8/20 [00:01<00:01,  6.62it/s]\n",
            " 45% 9/20 [00:01<00:01,  6.63it/s]\n",
            " 50% 10/20 [00:01<00:01,  6.64it/s]\n",
            " 55% 11/20 [00:01<00:01,  6.69it/s]\n",
            " 60% 12/20 [00:01<00:01,  6.68it/s]\n",
            " 65% 13/20 [00:01<00:01,  6.57it/s]\n",
            " 70% 14/20 [00:02<00:00,  6.60it/s]\n",
            " 75% 15/20 [00:02<00:00,  6.63it/s]\n",
            " 80% 16/20 [00:02<00:00,  6.68it/s]\n",
            " 85% 17/20 [00:02<00:00,  6.70it/s]\n",
            " 90% 18/20 [00:02<00:00,  6.72it/s]\n",
            " 95% 19/20 [00:02<00:00,  6.67it/s]\n",
            "100% 20/20 [00:03<00:00,  6.58it/s]\n",
            "Total progress: 100% 20/20 [00:03<00:00,  5.81it/s]\n",
            "Interrupted with signal 2 in <frame at 0x29226300, file '/content/sd-webui/webui.py', line 173, code wait_on_server>\n"
          ]
        }
      ],
      "source": [
        "# Copy the LoRA code from other LoRA setup (download the setup file after editing the LoRA code cell to avoid repeat input for next session)\n",
        "# How-to download the setup file: Click 'File' menu -> 'Download' -> 'Download .ipynb'\n",
        "# Load LoRA from Google Drive: https://youtu.be/G1QZfAPUMaM\n",
        "\n",
        "# LoRA 1\n",
        "#!curl ...\n",
        "#!mv ...\n",
        "\n",
        "# LoRA 2\n",
        "#!curl ...\n",
        "#!mv ...\n",
        "\n",
        "# LoRA 3\n",
        "#!curl ...\n",
        "#!mv ...\n",
        "\n",
        "# ...\n",
        "\n",
        "# Web UI tunnel\n",
        "!COMMANDLINE_ARGS=\"--share --disable-safe-unpickle --no-half-vae --xformers --reinstall-xformers --enable-insecure-extension --gradio-queue\" REQS_FILE=\"requirements.txt\" python launch.py\n",
        "# Use this command below to use cloudflare tunnel\n",
        "#!COMMANDLINE_ARGS=\"--disable-safe-unpickle --no-half-vae --xformers --reinstall-xformers --enable-insecure-extension --gradio-queue --cloudflared\" REQS_FILE=\"requirements.txt\" python launch.py"
      ]
    },
    {
      "cell_type": "markdown",
      "metadata": {
        "id": "RDXQyi3iK1C6"
      },
      "source": [
        "# 📚 GitHub for more: [_@nolanaatama_](https://github.com/nolanaatama)\n",
        "# 📦 Repo: [Github](https://github.com/nolanaatama/sd-1click-colab)"
      ]
    }
  ],
  "metadata": {
    "accelerator": "GPU",
    "colab": {
      "provenance": [],
      "include_colab_link": true
    },
    "gpuClass": "standard",
    "kernelspec": {
      "display_name": "Python 3",
      "name": "python3"
    },
    "language_info": {
      "name": "python"
    }
  },
  "nbformat": 4,
  "nbformat_minor": 0
}